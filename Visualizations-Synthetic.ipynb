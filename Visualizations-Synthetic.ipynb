{
 "cells": [
  {
   "cell_type": "markdown",
   "metadata": {},
   "source": [
    "# Synthetic Data Experiments (Visualizations)"
   ]
  },
  {
   "cell_type": "code",
   "execution_count": 1,
   "metadata": {},
   "outputs": [],
   "source": [
    "include(\"src/Misc.jl\")\n",
    "using .Misc"
   ]
  },
  {
   "cell_type": "code",
   "execution_count": 2,
   "metadata": {
    "scrolled": true
   },
   "outputs": [
    {
     "name": "stderr",
     "output_type": "stream",
     "text": [
      "┌ Warning: `getindex(o::PyObject, s::Symbol)` is deprecated in favor of dot overloading (`getproperty`) so elements should now be accessed as e.g. `o.s` instead of `o[:s]`.\n",
      "│   caller = (::getfield(Pandas, Symbol(\"##3#6\")))() at Pandas.jl:212\n",
      "└ @ Pandas /home/burak/.julia/packages/Pandas/de9Ai/src/Pandas.jl:212\n",
      "┌ Warning: `getindex(o::PyObject, s::Symbol)` is deprecated in favor of dot overloading (`getproperty`) so elements should now be accessed as e.g. `o.s` instead of `o[:s]`.\n",
      "│   caller = (::getfield(Pandas, Symbol(\"##3#6\")))() at Pandas.jl:212\n",
      "└ @ Pandas /home/burak/.julia/packages/Pandas/de9Ai/src/Pandas.jl:212\n",
      "┌ Warning: `getindex(o::PyObject, s::AbstractString)` is deprecated in favor of dot overloading (`getproperty`) so elements should now be accessed as e.g. `o.\"s\"` instead of `o[\"s\"]`.\n",
      "│   caller = (::getfield(Pandas, Symbol(\"##3#6\")))() at Pandas.jl:212\n",
      "└ @ Pandas /home/burak/.julia/packages/Pandas/de9Ai/src/Pandas.jl:212\n",
      "┌ Warning: `getindex(o::PyObject, s::Symbol)` is deprecated in favor of dot overloading (`getproperty`) so elements should now be accessed as e.g. `o.s` instead of `o[:s]`.\n",
      "│   caller = (::getfield(Pandas, Symbol(\"##9#12\")))() at Pandas.jl:213\n",
      "└ @ Pandas /home/burak/.julia/packages/Pandas/de9Ai/src/Pandas.jl:213\n",
      "┌ Warning: `getindex(o::PyObject, s::Symbol)` is deprecated in favor of dot overloading (`getproperty`) so elements should now be accessed as e.g. `o.s` instead of `o[:s]`.\n",
      "│   caller = (::getfield(Pandas, Symbol(\"##9#12\")))() at Pandas.jl:213\n",
      "└ @ Pandas /home/burak/.julia/packages/Pandas/de9Ai/src/Pandas.jl:213\n",
      "┌ Warning: `getindex(o::PyObject, s::AbstractString)` is deprecated in favor of dot overloading (`getproperty`) so elements should now be accessed as e.g. `o.\"s\"` instead of `o[\"s\"]`.\n",
      "│   caller = (::getfield(Pandas, Symbol(\"##9#12\")))() at Pandas.jl:213\n",
      "└ @ Pandas /home/burak/.julia/packages/Pandas/de9Ai/src/Pandas.jl:213\n",
      "┌ Warning: `getindex(o::PyObject, s::Symbol)` is deprecated in favor of dot overloading (`getproperty`) so elements should now be accessed as e.g. `o.s` instead of `o[:s]`.\n",
      "│   caller = (::getfield(Pandas, Symbol(\"##15#18\")))() at Pandas.jl:214\n",
      "└ @ Pandas /home/burak/.julia/packages/Pandas/de9Ai/src/Pandas.jl:214\n",
      "┌ Warning: `getindex(o::PyObject, s::Symbol)` is deprecated in favor of dot overloading (`getproperty`) so elements should now be accessed as e.g. `o.s` instead of `o[:s]`.\n",
      "│   caller = (::getfield(Pandas, Symbol(\"##15#18\")))() at Pandas.jl:214\n",
      "└ @ Pandas /home/burak/.julia/packages/Pandas/de9Ai/src/Pandas.jl:214\n",
      "┌ Warning: `getindex(o::PyObject, s::AbstractString)` is deprecated in favor of dot overloading (`getproperty`) so elements should now be accessed as e.g. `o.\"s\"` instead of `o[\"s\"]`.\n",
      "│   caller = (::getfield(Pandas, Symbol(\"##15#18\")))() at Pandas.jl:214\n",
      "└ @ Pandas /home/burak/.julia/packages/Pandas/de9Ai/src/Pandas.jl:214\n",
      "┌ Warning: `getindex(o::PyObject, s::Symbol)` is deprecated in favor of dot overloading (`getproperty`) so elements should now be accessed as e.g. `o.s` instead of `o[:s]`.\n",
      "│   caller = (::getfield(Pandas, Symbol(\"##21#24\")))() at Pandas.jl:215\n",
      "└ @ Pandas /home/burak/.julia/packages/Pandas/de9Ai/src/Pandas.jl:215\n",
      "┌ Warning: `getindex(o::PyObject, s::Symbol)` is deprecated in favor of dot overloading (`getproperty`) so elements should now be accessed as e.g. `o.s` instead of `o[:s]`.\n",
      "│   caller = (::getfield(Pandas, Symbol(\"##21#24\")))() at Pandas.jl:215\n",
      "└ @ Pandas /home/burak/.julia/packages/Pandas/de9Ai/src/Pandas.jl:215\n",
      "┌ Warning: `getindex(o::PyObject, s::AbstractString)` is deprecated in favor of dot overloading (`getproperty`) so elements should now be accessed as e.g. `o.\"s\"` instead of `o[\"s\"]`.\n",
      "│   caller = (::getfield(Pandas, Symbol(\"##21#24\")))() at Pandas.jl:215\n",
      "└ @ Pandas /home/burak/.julia/packages/Pandas/de9Ai/src/Pandas.jl:215\n",
      "┌ Warning: `getindex(o::PyObject, s::Symbol)` is deprecated in favor of dot overloading (`getproperty`) so elements should now be accessed as e.g. `o.s` instead of `o[:s]`.\n",
      "│   caller = (::getfield(Pandas, Symbol(\"##27#30\")))() at Pandas.jl:216\n",
      "└ @ Pandas /home/burak/.julia/packages/Pandas/de9Ai/src/Pandas.jl:216\n",
      "┌ Warning: `getindex(o::PyObject, s::Symbol)` is deprecated in favor of dot overloading (`getproperty`) so elements should now be accessed as e.g. `o.s` instead of `o[:s]`.\n",
      "│   caller = (::getfield(Pandas, Symbol(\"##27#30\")))() at Pandas.jl:216\n",
      "└ @ Pandas /home/burak/.julia/packages/Pandas/de9Ai/src/Pandas.jl:216\n",
      "┌ Warning: `getindex(o::PyObject, s::AbstractString)` is deprecated in favor of dot overloading (`getproperty`) so elements should now be accessed as e.g. `o.\"s\"` instead of `o[\"s\"]`.\n",
      "│   caller = (::getfield(Pandas, Symbol(\"##27#30\")))() at Pandas.jl:216\n",
      "└ @ Pandas /home/burak/.julia/packages/Pandas/de9Ai/src/Pandas.jl:216\n",
      "┌ Warning: `getindex(o::PyObject, s::Symbol)` is deprecated in favor of dot overloading (`getproperty`) so elements should now be accessed as e.g. `o.s` instead of `o[:s]`.\n",
      "│   caller = (::getfield(Pandas, Symbol(\"##33#36\")))() at Pandas.jl:217\n",
      "└ @ Pandas /home/burak/.julia/packages/Pandas/de9Ai/src/Pandas.jl:217\n",
      "┌ Warning: `getindex(o::PyObject, s::Symbol)` is deprecated in favor of dot overloading (`getproperty`) so elements should now be accessed as e.g. `o.s` instead of `o[:s]`.\n",
      "│   caller = (::getfield(Pandas, Symbol(\"##33#36\")))() at Pandas.jl:217\n",
      "└ @ Pandas /home/burak/.julia/packages/Pandas/de9Ai/src/Pandas.jl:217\n",
      "┌ Warning: `getindex(o::PyObject, s::AbstractString)` is deprecated in favor of dot overloading (`getproperty`) so elements should now be accessed as e.g. `o.\"s\"` instead of `o[\"s\"]`.\n",
      "│   caller = (::getfield(Pandas, Symbol(\"##33#36\")))() at Pandas.jl:217\n",
      "└ @ Pandas /home/burak/.julia/packages/Pandas/de9Ai/src/Pandas.jl:217\n",
      "┌ Warning: `getindex(o::PyObject, s::Symbol)` is deprecated in favor of dot overloading (`getproperty`) so elements should now be accessed as e.g. `o.s` instead of `o[:s]`.\n",
      "│   caller = (::getfield(Pandas, Symbol(\"##39#42\")))() at Pandas.jl:218\n",
      "└ @ Pandas /home/burak/.julia/packages/Pandas/de9Ai/src/Pandas.jl:218\n",
      "┌ Warning: `getindex(o::PyObject, s::Symbol)` is deprecated in favor of dot overloading (`getproperty`) so elements should now be accessed as e.g. `o.s` instead of `o[:s]`.\n",
      "│   caller = (::getfield(Pandas, Symbol(\"##39#42\")))() at Pandas.jl:218\n",
      "└ @ Pandas /home/burak/.julia/packages/Pandas/de9Ai/src/Pandas.jl:218\n",
      "┌ Warning: `getindex(o::PyObject, s::AbstractString)` is deprecated in favor of dot overloading (`getproperty`) so elements should now be accessed as e.g. `o.\"s\"` instead of `o[\"s\"]`.\n",
      "│   caller = (::getfield(Pandas, Symbol(\"##39#42\")))() at Pandas.jl:218\n",
      "└ @ Pandas /home/burak/.julia/packages/Pandas/de9Ai/src/Pandas.jl:218\n",
      "┌ Warning: `getindex(o::PyObject, s::Symbol)` is deprecated in favor of dot overloading (`getproperty`) so elements should now be accessed as e.g. `o.s` instead of `o[:s]`.\n",
      "│   caller = (::getfield(Pandas, Symbol(\"##45#48\")))() at Pandas.jl:219\n",
      "└ @ Pandas /home/burak/.julia/packages/Pandas/de9Ai/src/Pandas.jl:219\n",
      "┌ Warning: `getindex(o::PyObject, s::Symbol)` is deprecated in favor of dot overloading (`getproperty`) so elements should now be accessed as e.g. `o.s` instead of `o[:s]`.\n",
      "│   caller = (::getfield(Pandas, Symbol(\"##45#48\")))() at Pandas.jl:219\n",
      "└ @ Pandas /home/burak/.julia/packages/Pandas/de9Ai/src/Pandas.jl:219\n",
      "┌ Warning: `getindex(o::PyObject, s::AbstractString)` is deprecated in favor of dot overloading (`getproperty`) so elements should now be accessed as e.g. `o.\"s\"` instead of `o[\"s\"]`.\n",
      "│   caller = (::getfield(Pandas, Symbol(\"##45#48\")))() at Pandas.jl:219\n",
      "└ @ Pandas /home/burak/.julia/packages/Pandas/de9Ai/src/Pandas.jl:219\n",
      "┌ Warning: `getindex(o::PyObject, s::Symbol)` is deprecated in favor of dot overloading (`getproperty`) so elements should now be accessed as e.g. `o.s` instead of `o[:s]`.\n",
      "│   caller = (::getfield(Pandas, Symbol(\"##51#54\")))() at Pandas.jl:220\n",
      "└ @ Pandas /home/burak/.julia/packages/Pandas/de9Ai/src/Pandas.jl:220\n",
      "┌ Warning: `getindex(o::PyObject, s::Symbol)` is deprecated in favor of dot overloading (`getproperty`) so elements should now be accessed as e.g. `o.s` instead of `o[:s]`.\n",
      "│   caller = (::getfield(Pandas, Symbol(\"##51#54\")))() at Pandas.jl:220\n",
      "└ @ Pandas /home/burak/.julia/packages/Pandas/de9Ai/src/Pandas.jl:220\n",
      "┌ Warning: `getindex(o::PyObject, s::AbstractString)` is deprecated in favor of dot overloading (`getproperty`) so elements should now be accessed as e.g. `o.\"s\"` instead of `o[\"s\"]`.\n",
      "│   caller = (::getfield(Pandas, Symbol(\"##51#54\")))() at Pandas.jl:220\n",
      "└ @ Pandas /home/burak/.julia/packages/Pandas/de9Ai/src/Pandas.jl:220\n",
      "┌ Warning: `getindex(o::PyObject, s::Symbol)` is deprecated in favor of dot overloading (`getproperty`) so elements should now be accessed as e.g. `o.s` instead of `o[:s]`.\n",
      "│   caller = (::getfield(Pandas, Symbol(\"##57#60\")))() at Pandas.jl:221\n",
      "└ @ Pandas /home/burak/.julia/packages/Pandas/de9Ai/src/Pandas.jl:221\n",
      "┌ Warning: `getindex(o::PyObject, s::Symbol)` is deprecated in favor of dot overloading (`getproperty`) so elements should now be accessed as e.g. `o.s` instead of `o[:s]`.\n",
      "│   caller = (::getfield(Pandas, Symbol(\"##57#60\")))() at Pandas.jl:221\n",
      "└ @ Pandas /home/burak/.julia/packages/Pandas/de9Ai/src/Pandas.jl:221\n",
      "┌ Warning: `getindex(o::PyObject, s::AbstractString)` is deprecated in favor of dot overloading (`getproperty`) so elements should now be accessed as e.g. `o.\"s\"` instead of `o[\"s\"]`.\n",
      "│   caller = (::getfield(Pandas, Symbol(\"##57#60\")))() at Pandas.jl:221\n",
      "└ @ Pandas /home/burak/.julia/packages/Pandas/de9Ai/src/Pandas.jl:221\n"
     ]
    }
   ],
   "source": [
    "import PyPlot, Seaborn\n",
    "import Suppressor: @suppress_err"
   ]
  },
  {
   "cell_type": "code",
   "execution_count": null,
   "metadata": {},
   "outputs": [],
   "source": [
    "MARKER = [\"o\", \"v\", \"d\", \"X\", \"p\", \"*\", \"P\"];\n",
    "PATH = \"./results/synt\";\n",
    "IMG = \"./img/synt\";"
   ]
  },
  {
   "cell_type": "markdown",
   "metadata": {},
   "source": [
    "## On Hyperparameters of BAM"
   ]
  },
  {
   "cell_type": "markdown",
   "metadata": {},
   "source": [
    "\\begin{equation}\n",
    "X^{(1)} = \\left(\\begin{array}{cccc} \n",
    "    2 & 1 & 1 & 0 \\\\\n",
    "    0 & 0 & 1 & 2 \\\\\n",
    "    0 & 0 & 1 & 1 \n",
    "    \\end{array} \\right)\n",
    "\\end{equation}"
   ]
  },
  {
   "cell_type": "code",
   "execution_count": null,
   "metadata": {},
   "outputs": [],
   "source": [
    "result = load_json(\"$PATH/effective_params.json\")\n",
    "\n",
    "R = Int.(result[\"R\"])\n",
    "As = Float64.(result[\"a\"])\n",
    "dₑₚ = Int.(result[\"EP\"])\n",
    "log_PS = hcat(result[\"log_PS\"]...);\n",
    "log_PX = logsumexp(log_PS,1);"
   ]
  },
  {
   "cell_type": "code",
   "execution_count": null,
   "metadata": {
    "scrolled": true
   },
   "outputs": [],
   "source": [
    "@suppress_err begin\n",
    "fig, ax = PyPlot.subplots(1, 1+length(As); figsize=(14,3))\n",
    "\n",
    "ax[1].set_ylabel(\"# of \\$ S \\$\")\n",
    "for (i,a) ∈ enumerate(As)\n",
    "    ax[i].set_title(\"\\$ a = $a \\$\")\n",
    "    ax[i].hist(log_PS[:,i]; bins=200, label=\"\\$ \\\\log \\\\pi(S) \\$\")\n",
    "    ax[i].axvline(log_PX[i]; label=\"\\$ \\\\log \\\\mathcal{L}_X \\$\", linestyle=\"-.\", linewidth=2.0, color=\"red\")\n",
    "    ax[i].set_xlabel(\"\\$ \\\\log \\\\pi(S) \\$\")\n",
    "    ax[i].legend()\n",
    "end\n",
    "\n",
    "ax[end].set_title(\"Effective Parameters\")\n",
    "ax[end].hist(dₑₚ; bins=200, label=\"\\$ d_{EP} \\$\")\n",
    "ax[end].set_xlabel(\"\\$ d_{EP}\\$\")\n",
    "ax[end].invert_xaxis()\n",
    "ax[end].legend()\n",
    "\n",
    "PyPlot.savefig(\"$IMG/alloc_tensor_dist.pdf\", bbox_inches=\"tight\");\n",
    "end"
   ]
  },
  {
   "cell_type": "markdown",
   "metadata": {},
   "source": [
    "## Comparison of SMC, VB and exact enumeration on toy data"
   ]
  },
  {
   "cell_type": "markdown",
   "metadata": {},
   "source": [
    "\\begin{equation}\n",
    "X^{(1)} = \\left(\\begin{array}{cccc} \n",
    "    2 & 1 & 1 & 0 \\\\\n",
    "    0 & 0 & 1 & 2 \\\\\n",
    "    0 & 0 & 1 & 1 \n",
    "    \\end{array} \\right)\n",
    "\\end{equation}"
   ]
  },
  {
   "cell_type": "code",
   "execution_count": null,
   "metadata": {},
   "outputs": [],
   "source": [
    "result = load_json(\"$PATH/marginal_lkhd.json\")\n",
    "\n",
    "As = Float64.(result[\"a\"])\n",
    "Rs = Int.(result[\"R\"])\n",
    "\n",
    "log_PX = hcat(result[\"log_PX\"]...)\n",
    "log_PX_smc = hcat(result[\"log_PX_smc\"]...)\n",
    "log_PX_vb = hcat(result[\"log_PX_vb\"]...);"
   ]
  },
  {
   "cell_type": "code",
   "execution_count": null,
   "metadata": {},
   "outputs": [],
   "source": [
    "log_PR = log_PX .- logsumexp(log_PX,dims=1);\n",
    "log_PR_smc = log_PX_smc .- logsumexp(log_PX_smc,dims=1);\n",
    "log_PR_vb = log_PX_vb .- logsumexp(log_PX_vb,dims=1);"
   ]
  },
  {
   "cell_type": "code",
   "execution_count": null,
   "metadata": {
    "scrolled": false
   },
   "outputs": [],
   "source": [
    "@suppress_err begin\n",
    "fig, ax = PyPlot.subplots(2, 3; figsize=(12,7.5))\n",
    "\n",
    "for (r,R) in enumerate(Rs)\n",
    "    ax[1,1].semilogx(As,log_PX[r,:], label=\"K = $R\", marker=MARKER[r])\n",
    "    ax[2,1].semilogx(As,log_PR[r,:], label=\"K = $R\", marker=MARKER[r])\n",
    "    ax[1,2].semilogx(As,log_PX_smc[r,:], label=\"K = $R\", marker=MARKER[r])\n",
    "    ax[2,2].semilogx(As,log_PR_smc[r,:], label=\"K = $R\", marker=MARKER[r])\n",
    "    ax[1,3].semilogx(As,log_PX_vb[r,:], label=\"K = $R\", marker=MARKER[r])\n",
    "    ax[2,3].semilogx(As,log_PR_vb[r,:], label=\"K = $R\", marker=MARKER[r])\n",
    "end\n",
    "ax[1,1].set_ylabel(\"\\$ \\\\log \\\\mathcal{L}_X(K) \\$\");\n",
    "ax[2,1].set_ylabel(\"\\$ \\\\log \\\\mathrm{Pr}(K \\\\mid X) \\$\");\n",
    "ax[1,1].set_title(\"Marginal Log-Likelihood\");\n",
    "ax[1,2].set_title(\"Marginal Log-Likelihood (SMC)\");\n",
    "ax[1,3].set_title(\"Marginal Log-Likelihood (ELBO)\");\n",
    "ax[2,1].set_title(\"Posterior Log Odds\");\n",
    "ax[2,2].set_title(\"Posterior Log Odds (SMC)\");\n",
    "ax[2,3].set_title(\"Posterior Log Odds (ELBO)\");\n",
    "    \n",
    "foreach(i -> ax[2,i].set_xlabel(\"\\$ a \\$\"), 1:3);\n",
    "foreach(i -> ax[1,i].set_xlim(ax[1,1].get_xlim()), 1:3);\n",
    "foreach(i -> ax[2,i].set_ylim(-3), 1:3);\n",
    "for i ∈ 1:2, j ∈ 1:3; ax[i,j].legend() end\n",
    "\n",
    "PyPlot.savefig(\"$IMG/marginal_lkhd.pdf\", bbox_inches=\"tight\");\n",
    "end"
   ]
  },
  {
   "cell_type": "markdown",
   "metadata": {},
   "source": [
    "\\begin{equation}\n",
    "X^{(2)} = \\left(\\begin{array}{ccc} \n",
    "    4 & 3 & 0 \\\\\n",
    "    0 & 0 & 3 \\\\\n",
    "    0 & 0 & 3 \n",
    "    \\end{array} \\right)\n",
    "\\end{equation}"
   ]
  },
  {
   "cell_type": "code",
   "execution_count": null,
   "metadata": {},
   "outputs": [],
   "source": [
    "result = load_json(\"$PATH/marginal_lkhd2.json\")\n",
    "\n",
    "As = Float64.(result[\"a\"])\n",
    "Rs = Int.(result[\"R\"])\n",
    "\n",
    "log_PX = hcat(result[\"log_PX\"]...)\n",
    "log_PX_smc = hcat(result[\"log_PX_smc\"]...)\n",
    "log_PX_vb = hcat(result[\"log_PX_vb\"]...);"
   ]
  },
  {
   "cell_type": "code",
   "execution_count": null,
   "metadata": {},
   "outputs": [],
   "source": [
    "log_PR = log_PX .- logsumexp(log_PX,dims=1);\n",
    "log_PR_smc = log_PX_smc .- logsumexp(log_PX_smc,dims=1);\n",
    "log_PR_vb = log_PX_vb .- logsumexp(log_PX_vb,dims=1);"
   ]
  },
  {
   "cell_type": "code",
   "execution_count": null,
   "metadata": {},
   "outputs": [],
   "source": [
    "@suppress_err begin\n",
    "fig, ax = PyPlot.subplots(2, 3; figsize=(12,7.5))\n",
    "\n",
    "for (r,R) in enumerate(Rs)\n",
    "    ax[1,1].semilogx(As,log_PX[r,:], label=\"K = $R\", marker=MARKER[r])\n",
    "    ax[2,1].semilogx(As,log_PR[r,:], label=\"K = $R\", marker=MARKER[r])\n",
    "    ax[1,2].semilogx(As,log_PX_smc[r,:], label=\"K = $R\", marker=MARKER[r])\n",
    "    ax[2,2].semilogx(As,log_PR_smc[r,:], label=\"K = $R\", marker=MARKER[r])\n",
    "    ax[1,3].semilogx(As,log_PX_vb[r,:], label=\"K = $R\", marker=MARKER[r])\n",
    "    ax[2,3].semilogx(As,log_PR_vb[r,:], label=\"K = $R\", marker=MARKER[r])\n",
    "end\n",
    "ax[1,1].set_ylabel(\"\\$ \\\\log \\\\mathcal{L}_X(K) \\$\");\n",
    "ax[2,1].set_ylabel(\"\\$ \\\\log \\\\mathrm{Pr}(K \\\\mid X) \\$\");\n",
    "ax[1,1].set_title(\"Marginal Log-Likelihood\");\n",
    "ax[1,2].set_title(\"Marginal Log-Likelihood (SMC)\");\n",
    "ax[1,3].set_title(\"Marginal Log-Likelihood (ELBO)\");\n",
    "ax[2,1].set_title(\"Posterior Log Odds\");\n",
    "ax[2,2].set_title(\"Posterior Log Odds (SMC)\");\n",
    "ax[2,3].set_title(\"Posterior Log Odds (ELBO)\");\n",
    "    \n",
    "foreach(i -> ax[2,i].set_xlabel(\"\\$ a \\$\"), 1:3);\n",
    "foreach(i -> ax[1,i].set_xlim(ax[1,1].get_xlim()), 1:3);\n",
    "foreach(i -> ax[2,i].set_ylim(-3.5,0.0), 1:3);\n",
    "for i ∈ 1:2, j ∈ 1:3; ax[i,j].legend() end\n",
    "\n",
    "PyPlot.savefig(\"$IMG/marginal_lkhd2.pdf\", bbox_inches=\"tight\");\n",
    "end"
   ]
  },
  {
   "cell_type": "markdown",
   "metadata": {},
   "source": [
    "## Posterior Distribution of the number of tokens $S_+$"
   ]
  },
  {
   "cell_type": "markdown",
   "metadata": {},
   "source": [
    "\\begin{equation}\n",
    "X^{(3)} = \\left(\\begin{array}{cc} \n",
    "    3 & ? \\\\\n",
    "    3 & 3 \\\\ \n",
    "    \\end{array} \\right)\n",
    "\\end{equation}"
   ]
  },
  {
   "cell_type": "code",
   "execution_count": null,
   "metadata": {},
   "outputs": [],
   "source": [
    "result₁ = load_json(\"$PATH/Sp_dist.json\")\n",
    "\n",
    "Ts = Int.(result₁[\"T\"])\n",
    "Rs = Int.(result₁[\"R\"])\n",
    "log_PT = hcat(result₁[\"log_PT\"]...);"
   ]
  },
  {
   "cell_type": "code",
   "execution_count": null,
   "metadata": {},
   "outputs": [],
   "source": [
    "fig, ax = PyPlot.subplots(1, 1; figsize=(5,3))\n",
    "for (r,R) in enumerate(Rs)\n",
    "    ax.plot(Ts,log_PT[r,:], label=\"K = $R\", marker=MARKER[r])\n",
    "end\n",
    "ax.set_title(\"Distribution of \\$ \\\\mathbf{S}_+ \\$\");\n",
    "ax.set_ylabel(\"\\$ \\\\log \\\\mathrm{Pr}(\\\\mathbf{S}_+ = T,  X^{(3)} \\\\mid K) \\$\");\n",
    "ax.set_xlabel(\"\\$ T \\$\")\n",
    "ax.legend();\n",
    "\n",
    "PyPlot.savefig(\"$IMG/Sp_dist.pdf\", bbox_inches=\"tight\");"
   ]
  },
  {
   "cell_type": "markdown",
   "metadata": {},
   "source": [
    "\\begin{equation}\n",
    "X^{(4)} = \\left(\\begin{array}{ccc} \n",
    "    4 & ? \\\\\n",
    "    4 & 1\n",
    "    \\end{array} \\right)\n",
    "\\end{equation}"
   ]
  },
  {
   "cell_type": "code",
   "execution_count": null,
   "metadata": {},
   "outputs": [],
   "source": [
    "result₂ = load_json(\"$PATH/Sp_dist2.json\")\n",
    "\n",
    "Ts = Int.(result₂[\"T\"])\n",
    "Rs = Int.(result₂[\"R\"])\n",
    "log_PT = hcat(result₂[\"log_PT\"]...);"
   ]
  },
  {
   "cell_type": "code",
   "execution_count": null,
   "metadata": {},
   "outputs": [],
   "source": [
    "fig, ax = PyPlot.subplots(1, 1; figsize=(5,3))\n",
    "for (r,R) in enumerate(Rs)\n",
    "    ax.plot(Ts,log_PT[r,:], label=\"K = $R\", marker=MARKER[r])\n",
    "end\n",
    "ax.set_title(\"Distribution of \\$ \\\\mathbf{S}_+ \\$\");\n",
    "ax.set_ylabel(\"\\$ \\\\log \\\\mathrm{Pr}(\\\\mathbf{S}_+ = T,  X^{(4)} \\\\mid K) \\$\");\n",
    "ax.set_xlabel(\"\\$ T \\$\")\n",
    "ax.legend();\n",
    "\n",
    "PyPlot.savefig(\"$IMG/Sp_dist2.pdf\", bbox_inches=\"tight\");"
   ]
  },
  {
   "cell_type": "markdown",
   "metadata": {},
   "source": [
    "## Model Order Selection for CP/PARAFAC"
   ]
  },
  {
   "cell_type": "markdown",
   "metadata": {},
   "source": [
    "### Confusion Matrix"
   ]
  },
  {
   "cell_type": "code",
   "execution_count": null,
   "metadata": {},
   "outputs": [],
   "source": [
    "result = load_json(\"$PATH/parafac_confusion.json\")\n",
    "\n",
    "I, J, K, T = result[\"I\"], result[\"J\"], result[\"K\"], result[\"T\"]\n",
    "Rs = Int.(result[\"R\"])\n",
    "As = Float64.(result[\"a\"])\n",
    "\n",
    "R_true = Int.(result[\"R_true\"])\n",
    "R_smc = Int.(result[\"R_smc\"])\n",
    "R_vb = Int.(result[\"R_vb\"]);"
   ]
  },
  {
   "cell_type": "code",
   "execution_count": null,
   "metadata": {},
   "outputs": [],
   "source": [
    "conf_smc = zeros(Int,length(Rs),length(Rs));\n",
    "conf_vb = zeros(Int,length(Rs),length(Rs));"
   ]
  },
  {
   "cell_type": "code",
   "execution_count": null,
   "metadata": {},
   "outputs": [],
   "source": [
    "for i ∈ 1:length(R_true)\n",
    "    conf_smc[R_true[i],R_smc[i]] += 1\n",
    "    conf_vb[R_true[i],R_vb[i]] += 1\n",
    "end"
   ]
  },
  {
   "cell_type": "code",
   "execution_count": null,
   "metadata": {},
   "outputs": [],
   "source": [
    "@suppress_err begin\n",
    "fig, ax = PyPlot.subplots(1; figsize=(4,3))\n",
    "Seaborn.heatmap(conf_vb; annot=true, cmap=\"YlGnBu\", cbar=false, xticklabels=Rs, yticklabels=Rs, linewidths=.4, ax=ax)\n",
    "\n",
    "ax.set_title(\"Confusion Matrix of Model Orders\")\n",
    "ax.set_ylabel(\"\\$ R_\\\\mathrm{true} \\$\")\n",
    "ax.set_xlabel(\"\\$ R_\\\\mathrm{VB} \\$\")\n",
    "\n",
    "PyPlot.savefig(\"$IMG/parafac_confusion_vb.pdf\", bbox_inches=\"tight\");\n",
    "end"
   ]
  },
  {
   "cell_type": "code",
   "execution_count": null,
   "metadata": {},
   "outputs": [],
   "source": [
    "@suppress_err begin\n",
    "fig, ax = PyPlot.subplots(1; figsize=(4,3))\n",
    "Seaborn.heatmap(conf_smc; annot=true, cmap=\"YlGnBu\", cbar=false, xticklabels=Rs, yticklabels=Rs, linewidths=.4, ax=ax)\n",
    "\n",
    "ax.set_title(\"Confusion Matrix of Model Orders\")\n",
    "ax.set_ylabel(\"\\$ R_\\\\mathrm{true} \\$\")\n",
    "ax.set_xlabel(\"\\$ R_\\\\mathrm{SMC} \\$\")\n",
    "\n",
    "PyPlot.savefig(\"$IMG/parafac_confusion_smc.pdf\", bbox_inches=\"tight\");\n",
    "end"
   ]
  },
  {
   "cell_type": "markdown",
   "metadata": {},
   "source": [
    "### An Example"
   ]
  },
  {
   "cell_type": "code",
   "execution_count": null,
   "metadata": {},
   "outputs": [],
   "source": [
    "result = load_json(\"$PATH/parafac_model_selection.json\")\n",
    "\n",
    "I, J, K, R_true = result[\"I\"], result[\"J\"], result[\"K\"], result[\"R_true\"]\n",
    "Rs = Int.(result[\"R\"])\n",
    "a = result[\"a\"]\n",
    "log_PX_smc, log_PX_vb = Float64.(result[\"log_PX_smc\"]), Float64.(result[\"log_PX_vb\"]);"
   ]
  },
  {
   "cell_type": "code",
   "execution_count": null,
   "metadata": {},
   "outputs": [],
   "source": [
    "PyPlot.figure(figsize=(5,3))\n",
    "\n",
    "PyPlot.axvline(R_true; label=\"G. Rank\", color=\"black\", linestyle=\"--\")\n",
    "PyPlot.plot(Rs, log_PX_vb; label=\"ELBO\", marker=MARKER[5]);\n",
    "PyPlot.plot(Rs, log_PX_smc; label=\"SIS/R\", marker=MARKER[6]);\n",
    "\n",
    "PyPlot.xlabel(\"\\$R\\$ (Model order)\")\n",
    "PyPlot.ylabel(\"\\$ \\\\log \\\\mathcal{L}_X(R) \\$\")\n",
    "PyPlot.title(\"Model Scoring Example (PARAFAC)\");\n",
    "PyPlot.legend();\n",
    "\n",
    "PyPlot.savefig(\"$IMG/cp_model_selection.pdf\", bbox_inches=\"tight\");"
   ]
  },
  {
   "cell_type": "markdown",
   "metadata": {},
   "source": [
    "### Runtimes"
   ]
  },
  {
   "cell_type": "code",
   "execution_count": null,
   "metadata": {},
   "outputs": [],
   "source": [
    "result = load_json(\"$PATH/parafac_runtime.json\")\n",
    "\n",
    "T, P, R, a = result[\"T\"], result[\"P\"], result[\"R\"], result[\"a\"]\n",
    "IJK = Array{Array{Int,1},1}(result[\"IJK\"])\n",
    "smc_times = hcat(result[\"smc\"]...)\n",
    "vb_times = hcat(result[\"vb\"]...);"
   ]
  },
  {
   "cell_type": "code",
   "execution_count": null,
   "metadata": {},
   "outputs": [],
   "source": [
    "PyPlot.figure(figsize=(5,3))\n",
    "PyPlot.plot(1:length(IJK),nanmean(vb_times,2); label=\"VB\", marker=MARKER[5])\n",
    "PyPlot.plot(1:length(IJK),nanmean(smc_times,2); label=\"SIS/R\", marker=MARKER[6])\n",
    "PyPlot.title(\"Average Runtimes (PARAFAC)\")\n",
    "PyPlot.ylabel(\"sec.\")\n",
    "PyPlot.xlabel(\" \\$ I_1 \\\\times I_2 \\\\times I_3 \\$ (Dimensions of \\$X\\$)\")\n",
    "PyPlot.xticks(1:2:length(IJK),[\"\\$ {$(4*i)}^3 \\$\" for i ∈ 1:2:length(IJK)])\n",
    "PyPlot.legend()\n",
    "\n",
    "PyPlot.savefig(\"$IMG/runtimes.pdf\", bbox_inches=\"tight\");"
   ]
  }
 ],
 "metadata": {
  "author": "mes$. \\figref{fig:runtimes",
  "hide_input": false,
  "kernelspec": {
   "display_name": "Julia 1.0.1",
   "language": "julia",
   "name": "julia-1.0"
  },
  "language_info": {
   "file_extension": ".jl",
   "mimetype": "application/julia",
   "name": "julia",
   "version": "1.0.1"
  },
  "latex_envs": {
   "LaTeX_envs_menu_present": true,
   "autoclose": false,
   "autocomplete": true,
   "bibliofile": "biblio.bib",
   "cite_by": "apalike",
   "current_citInitial": 1,
   "eqLabelWithNumbers": true,
   "eqNumInitial": 1,
   "hotkeys": {
    "equation": "Ctrl-E",
    "itemize": "Ctrl-I"
   },
   "labels_anchors": false,
   "latex_user_defs": false,
   "report_style_numbering": false,
   "user_envs_cfg": false
  }
 },
 "nbformat": 4,
 "nbformat_minor": 2
}
