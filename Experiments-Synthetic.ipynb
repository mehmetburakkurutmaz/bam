{
 "cells": [
  {
   "cell_type": "markdown",
   "metadata": {},
   "source": [
    "# Synthetic Data Experiments"
   ]
  },
  {
   "cell_type": "code",
   "execution_count": 1,
   "metadata": {
    "hide_input": false
   },
   "outputs": [],
   "source": [
    "include(\"./src/NCP/NCP.jl\");\n",
    "include(\"./src/Misc.jl\");"
   ]
  },
  {
   "cell_type": "code",
   "execution_count": 2,
   "metadata": {
    "hide_input": true
   },
   "outputs": [],
   "source": [
    "using .Misc\n",
    "import .NCP"
   ]
  },
  {
   "cell_type": "code",
   "execution_count": 3,
   "metadata": {
    "hide_input": true
   },
   "outputs": [],
   "source": [
    "using Distributions, SpecialFunctions\n",
    "using Combinatorics\n",
    "import Dates: now"
   ]
  },
  {
   "cell_type": "code",
   "execution_count": 4,
   "metadata": {},
   "outputs": [],
   "source": [
    "using Random\n",
    "Random.seed!(1605); "
   ]
  },
  {
   "cell_type": "code",
   "execution_count": 5,
   "metadata": {},
   "outputs": [],
   "source": [
    "PATH = \"./results/synt\";"
   ]
  },
  {
   "cell_type": "code",
   "execution_count": 6,
   "metadata": {},
   "outputs": [],
   "source": [
    "import Suppressor: @suppress_err"
   ]
  },
  {
   "cell_type": "markdown",
   "metadata": {},
   "source": [
    "## On Hyperparameters of BAM"
   ]
  },
  {
   "cell_type": "markdown",
   "metadata": {},
   "source": [
    "\\begin{equation}\n",
    "X^{(1)} = \\left(\\begin{array}{cccc} \n",
    "    2 & 1 & 1 & 0 \\\\\n",
    "    0 & 0 & 1 & 2 \\\\\n",
    "    0 & 0 & 1 & 1 \n",
    "    \\end{array} \\right)\n",
    "\\end{equation}"
   ]
  },
  {
   "cell_type": "code",
   "execution_count": 7,
   "metadata": {},
   "outputs": [],
   "source": [
    "R = 3\n",
    "As = [10, 1e-1, 1e-10];"
   ]
  },
  {
   "cell_type": "code",
   "execution_count": 8,
   "metadata": {
    "hide_input": true
   },
   "outputs": [],
   "source": [
    "X = [2 1 1 0; \n",
    "     0 0 1 2;\n",
    "     0 0 1 1];"
   ]
  },
  {
   "cell_type": "code",
   "execution_count": 9,
   "metadata": {},
   "outputs": [
    {
     "name": "stdout",
     "output_type": "stream",
     "text": [
      "  5.717277 seconds (21.83 M allocations: 1.025 GiB, 5.57% gc time)\n",
      "  0.384939 seconds (2.70 M allocations: 127.659 MiB, 8.95% gc time)\n"
     ]
    }
   ],
   "source": [
    "@time log_PS_exact = [NCP.alloc_dist(X,R;a=a) for a ∈ As]\n",
    "@time dₑₚ = NCP.EP_dist(X,R)\n",
    "\n",
    "log_PX = map(logsumexp, log_PS_exact);"
   ]
  },
  {
   "cell_type": "code",
   "execution_count": 10,
   "metadata": {},
   "outputs": [],
   "source": [
    "save_json(\"$PATH/effective_params.json\"; X=X, R=R, a=As,\n",
    "                        log_PS=log_PS_exact, EP=dₑₚ, time=now());"
   ]
  },
  {
   "cell_type": "markdown",
   "metadata": {},
   "source": [
    "## Comparison of SMC, VB and exact enumeration on toy data"
   ]
  },
  {
   "cell_type": "code",
   "execution_count": 11,
   "metadata": {
    "hide_input": true
   },
   "outputs": [],
   "source": [
    "As = 10.0 .^ LinRange(-5,5,11)\n",
    "Rs = 1:4;\n",
    "EPOCHS, P, M = 100, 3000, 200;"
   ]
  },
  {
   "cell_type": "markdown",
   "metadata": {},
   "source": [
    "\\begin{equation}\n",
    "X^{(1)} = \\left(\\begin{array}{cccc} \n",
    "    2 & 1 & 1 & 0 \\\\\n",
    "    0 & 0 & 1 & 2 \\\\\n",
    "    0 & 0 & 1 & 1 \n",
    "    \\end{array} \\right)\n",
    "\\end{equation}"
   ]
  },
  {
   "cell_type": "code",
   "execution_count": 12,
   "metadata": {},
   "outputs": [],
   "source": [
    "X = [2 1 1 0; \n",
    "     0 0 1 2;\n",
    "     0 0 1 1];"
   ]
  },
  {
   "cell_type": "code",
   "execution_count": 13,
   "metadata": {
    "hide_input": true
   },
   "outputs": [
    {
     "name": "stdout",
     "output_type": "stream",
     "text": [
      " 65.616628 seconds (571.00 M allocations: 25.857 GiB, 8.79% gc time)\n"
     ]
    }
   ],
   "source": [
    "@time log_PX_exact = [NCP.log_marginal(X,R; a=a) for R ∈ Rs, a ∈ As];\n",
    "log_PR_exact = log_PX_exact .- logsumexp(log_PX_exact,dims=1);"
   ]
  },
  {
   "cell_type": "code",
   "execution_count": 14,
   "metadata": {},
   "outputs": [
    {
     "name": "stdout",
     "output_type": "stream",
     "text": [
      "1117.911606 seconds (5.93 G allocations: 180.404 GiB, 2.44% gc time)\n"
     ]
    }
   ],
   "source": [
    "@time log_PX_smc = logmeanexp([NCP.smc_weight(X,R,P; a=a)[1] for R ∈ Rs, a ∈ As, m ∈ 1:M],3);\n",
    "log_PR_smc = log_PX_smc .- logsumexp(log_PX_smc,dims=1);"
   ]
  },
  {
   "cell_type": "code",
   "execution_count": 15,
   "metadata": {},
   "outputs": [
    {
     "name": "stdout",
     "output_type": "stream",
     "text": [
      " 27.989278 seconds (236.66 M allocations: 14.647 GiB, 9.74% gc time)\n"
     ]
    }
   ],
   "source": [
    "@time log_PX_vb = nanmax([NCP.standard_VB(X,R; a=a, EPOCHS=EPOCHS)[1][end] for R ∈ Rs, a ∈ As, m ∈ 1:M],3);\n",
    "log_PR_vb = log_PX_vb .- logsumexp(log_PX_vb,dims=1);"
   ]
  },
  {
   "cell_type": "code",
   "execution_count": 16,
   "metadata": {},
   "outputs": [],
   "source": [
    "save_json(\"$PATH/marginal_lkhd.json\"; X=X, R=Rs, a=As, \n",
    "    log_PX=log_PX_exact, log_PX_smc=log_PX_smc, log_PX_vb=log_PX_vb, time=now());"
   ]
  },
  {
   "cell_type": "markdown",
   "metadata": {},
   "source": [
    "\\begin{equation}\n",
    "X^{(2)} = \\left(\\begin{array}{ccc} \n",
    "    4 & 3 & 0 \\\\\n",
    "    0 & 0 & 3 \\\\\n",
    "    0 & 0 & 3 \n",
    "    \\end{array} \\right)\n",
    "\\end{equation}"
   ]
  },
  {
   "cell_type": "code",
   "execution_count": 17,
   "metadata": {},
   "outputs": [],
   "source": [
    "X = [4 3 0; \n",
    "     0 0 3;\n",
    "     0 0 3];"
   ]
  },
  {
   "cell_type": "code",
   "execution_count": 18,
   "metadata": {
    "hide_input": true
   },
   "outputs": [
    {
     "name": "stdout",
     "output_type": "stream",
     "text": [
      "167.375861 seconds (1.34 G allocations: 59.756 GiB, 8.16% gc time)\n"
     ]
    }
   ],
   "source": [
    "@time log_PX_exact = [NCP.log_marginal(X,R; a=a) for R ∈ Rs, a ∈ As];\n",
    "log_PR_exact = log_PX_exact .- logsumexp(log_PX_exact,dims=1);"
   ]
  },
  {
   "cell_type": "code",
   "execution_count": 19,
   "metadata": {},
   "outputs": [
    {
     "name": "stdout",
     "output_type": "stream",
     "text": [
      "1588.249755 seconds (8.42 G allocations: 251.492 GiB, 2.10% gc time)\n"
     ]
    }
   ],
   "source": [
    "@time log_PX_smc = logmeanexp([NCP.smc_weight(X,R,P; a=a)[1] for R ∈ Rs, a ∈ As, m ∈ 1:M],3);\n",
    "log_PR_smc = log_PX_smc .- logsumexp(log_PX_smc,dims=1);"
   ]
  },
  {
   "cell_type": "code",
   "execution_count": 20,
   "metadata": {},
   "outputs": [
    {
     "name": "stdout",
     "output_type": "stream",
     "text": [
      " 23.242315 seconds (204.52 M allocations: 12.184 GiB, 7.23% gc time)\n"
     ]
    }
   ],
   "source": [
    "@time log_PX_vb = nanmax([NCP.standard_VB(X,R; a=a, EPOCHS=EPOCHS)[1][end] for R ∈ Rs, a ∈ As, m ∈ 1:M],3);\n",
    "log_PR_vb = log_PX_vb .- logsumexp(log_PX_vb,dims=1);"
   ]
  },
  {
   "cell_type": "code",
   "execution_count": 21,
   "metadata": {},
   "outputs": [],
   "source": [
    "save_json(\"$PATH/marginal_lkhd2.json\"; X=X, R=Rs, a=As, \n",
    "    log_PX=log_PX_exact, log_PX_smc=log_PX_smc, log_PX_vb=log_PX_vb, time=now());"
   ]
  },
  {
   "cell_type": "markdown",
   "metadata": {},
   "source": [
    "## Posterior Distribution of the number of tokens $S_+$"
   ]
  },
  {
   "cell_type": "markdown",
   "metadata": {},
   "source": [
    "\\begin{equation}\n",
    "X^{(3)} = \\left(\\begin{array}{cc} \n",
    "    3 & ? \\\\\n",
    "    3 & 3 \\\\ \n",
    "    \\end{array} \\right)\n",
    "\\end{equation}"
   ]
  },
  {
   "cell_type": "code",
   "execution_count": 22,
   "metadata": {},
   "outputs": [],
   "source": [
    "X_miss = [3 NaN; \n",
    "          3 3];"
   ]
  },
  {
   "cell_type": "code",
   "execution_count": 23,
   "metadata": {},
   "outputs": [],
   "source": [
    "Rs = 1:4\n",
    "a, b = 4.0, 1e-2\n",
    "\n",
    "Ts = nansum(X_miss):15;"
   ]
  },
  {
   "cell_type": "code",
   "execution_count": 24,
   "metadata": {
    "scrolled": true
   },
   "outputs": [
    {
     "name": "stdout",
     "output_type": "stream",
     "text": [
      "126.143116 seconds (731.21 M allocations: 27.432 GiB, 3.74% gc time)\n",
      "  2.366245 seconds (9.66 M allocations: 318.291 MiB, 2.40% gc time)\n",
      "  7.770400 seconds (52.98 M allocations: 2.782 GiB, 6.30% gc time)\n"
     ]
    }
   ],
   "source": [
    "@time log_PT_exact = [NCP.log_posterior_T(X_miss, T, R; a=a, b=b) for R ∈ Rs, T ∈ Ts];\n",
    "@time log_PT_smc = [NCP.log_posterior_T(X_miss, T, R; a=a, b=b, smc=true) for R ∈ Rs, T ∈ Ts];\n",
    "@time log_PT_vb = [NCP.log_posterior_T(X_miss, T, R; a=a, b=b, elbo=true) for R ∈ Rs, T ∈ Ts];"
   ]
  },
  {
   "cell_type": "code",
   "execution_count": 25,
   "metadata": {},
   "outputs": [],
   "source": [
    "save_json(\"$PATH/Sp_dist.json\"; X=X_miss, R=Rs, a=a, b=b, T=Ts,\n",
    "    log_PT=log_PT_exact, log_PT_smc=log_PT_smc, log_PT_vb=log_PT_vb, time=now());"
   ]
  },
  {
   "cell_type": "markdown",
   "metadata": {},
   "source": [
    "\\begin{equation}\n",
    "X^{(4)} = \\left(\\begin{array}{ccc} \n",
    "    4 & ? \\\\\n",
    "    4 & 1\n",
    "    \\end{array} \\right)\n",
    "\\end{equation}"
   ]
  },
  {
   "cell_type": "code",
   "execution_count": 26,
   "metadata": {},
   "outputs": [],
   "source": [
    "X_miss = [4 NaN; \n",
    "          4 1];"
   ]
  },
  {
   "cell_type": "code",
   "execution_count": 27,
   "metadata": {},
   "outputs": [],
   "source": [
    "Rs = 1:4\n",
    "a, b = 4.0, 1e-2\n",
    "\n",
    "Ts = nansum(X_miss):15;"
   ]
  },
  {
   "cell_type": "code",
   "execution_count": 28,
   "metadata": {},
   "outputs": [
    {
     "name": "stdout",
     "output_type": "stream",
     "text": [
      " 76.222895 seconds (447.05 M allocations: 16.736 GiB, 3.93% gc time)\n",
      "  1.746150 seconds (8.54 M allocations: 265.086 MiB, 2.60% gc time)\n",
      "  6.762978 seconds (51.14 M allocations: 2.699 GiB, 7.00% gc time)\n"
     ]
    }
   ],
   "source": [
    "@time log_PT_exact = [NCP.log_posterior_T(X_miss, T, R; a=a, b=b) for R ∈ Rs, T ∈ Ts];\n",
    "@time log_PT_smc = [NCP.log_posterior_T(X_miss, T, R; a=a, b=b, smc=true) for R ∈ Rs, T ∈ Ts];\n",
    "@time log_PT_vb = [NCP.log_posterior_T(X_miss, T, R; a=a, b=b, elbo=true) for R ∈ Rs, T ∈ Ts];"
   ]
  },
  {
   "cell_type": "code",
   "execution_count": 29,
   "metadata": {},
   "outputs": [],
   "source": [
    "save_json(\"$PATH/Sp_dist2.json\"; X=X_miss, R=Rs, a=a, b=b, T=Ts,\n",
    "    log_PT=log_PT_exact, log_PT_smc=log_PT_smc, log_PT_vb=log_PT_vb, time=now());"
   ]
  },
  {
   "cell_type": "markdown",
   "metadata": {},
   "source": [
    "## Optimized Implementations for CP/PARAFAC"
   ]
  },
  {
   "cell_type": "markdown",
   "metadata": {},
   "source": [
    "### Variational Bayes"
   ]
  },
  {
   "cell_type": "code",
   "execution_count": 30,
   "metadata": {},
   "outputs": [
    {
     "data": {
      "text/plain": [
       "vb_opt (generic function with 1 method)"
      ]
     },
     "execution_count": 30,
     "metadata": {},
     "output_type": "execute_result"
    }
   ],
   "source": [
    "function vb_opt(X::Array{ℜ,3}, R::Ƶ; a::ℜ=1.0, b::ℜ=a/nansum(X), EPOCHS::Ƶ=1, ϵ::ℜ=1e-16) where {ℜ<:Real, Ƶ<:Int}\n",
    "    I::Ƶ, J::Ƶ, K::Ƶ = size(X)\n",
    "    α_R, α_IR, α_JR, α_KR = fill(a/R,R), fill(a/(I*R),I,R), fill(a/(J*R),J,R), fill(a/(K*R),K,R)\n",
    "    \n",
    "    log_λ = log(rand(Gamma(a,1.0/b)))\n",
    "    log_θ_R = rand(Dirichlet(α_R .+ 1.0/R))\n",
    "    log_θ_IR = reshape([log(θ_ir) for r=1:R for θ_ir=rand(Dirichlet(α_IR[:,r] .+ 1.0/I))],I,R)\n",
    "    log_θ_JR = reshape([log(θ_jr) for r=1:R for θ_jr=rand(Dirichlet(α_JR[:,r] .+ 1.0/J))],J,R)\n",
    "    log_θ_KR = reshape([log(θ_kr) for r=1:R for θ_kr=rand(Dirichlet(α_KR[:,r] .+ 1.0/K))],K,R)\n",
    "    \n",
    "    s, S_R, S_IR, S_JR, S_KR, S₊ = zeros(R), zeros(R), zeros(I,R), zeros(J,R), zeros(K,R), sum(X)\n",
    "    log_p = zeros(R)\n",
    "\n",
    "    ELBO = a*log(b) - (a + S₊)*log(b + 1) + lgamma(a + S₊) - lgamma(a) - sum(lgamma, X .+ 1)                  \n",
    "\n",
    "    for eph=1:EPOCHS\n",
    "        S_R .= 0.0\n",
    "        S_IR .= 0.0\n",
    "        S_JR .= 0.0\n",
    "        S_KR .= 0.0\n",
    "                                        \n",
    "        for k=1:K, j=1:J, i=1:I #order of traversal is important\n",
    "            log_p .= log_θ_R .+ log_θ_IR[i,:] .+ log_θ_JR[j,:] .+ log_θ_KR[k,:]\n",
    "            log_p .-= logsumexp(log_p)\n",
    "            \n",
    "            s .= X[i,j,k] .* exp.(log_p)\n",
    "            \n",
    "            S_R .+= s\n",
    "            S_IR[i,:] .+= s\n",
    "            S_JR[j,:] .+= s\n",
    "            S_KR[k,:] .+= s\n",
    "                                                            \n",
    "            if eph == EPOCHS\n",
    "                ELBO -= sum(s .* log_p)\n",
    "            end\n",
    "        end\n",
    "                                                    \n",
    "        log_λ = digamma(S₊+a) - log(b+1.0)\n",
    "        log_θ_R .= digamma.(S_R.+α_R) .- digamma(S₊+a)\n",
    "        log_θ_IR .= digamma.(S_IR.+α_IR) .- digamma.(S_R.+α_R)'\n",
    "        log_θ_JR .= digamma.(S_JR.+α_JR) .- digamma.(S_R.+α_R)'\n",
    "        log_θ_KR .= digamma.(S_KR.+α_KR) .- digamma.(S_R.+α_R)'\n",
    "        \n",
    "        if eph == EPOCHS                                         \n",
    "            ELBO += sum(lbeta(α_IR .+ S_IR;dims=1)) - sum(lbeta(α_IR;dims=1))\n",
    "            ELBO += sum(lbeta(α_JR .+ S_JR;dims=1)) - sum(lbeta(α_JR;dims=1))\n",
    "            ELBO += sum(lbeta(α_KR .+ S_KR;dims=1)) - sum(lbeta(α_KR;dims=1))\n",
    "            ELBO += lbeta(α_R .+ S_R) - lbeta(α_R)\n",
    "        end\n",
    "    end\n",
    "    return ELBO\n",
    "end"
   ]
  },
  {
   "cell_type": "markdown",
   "metadata": {},
   "source": [
    "### Sequential Monte Carlo"
   ]
  },
  {
   "cell_type": "code",
   "execution_count": 31,
   "metadata": {},
   "outputs": [],
   "source": [
    "import DataStructures: PriorityQueue, peek, enqueue!, dequeue!\n",
    "import Base: iterate, length, sum, eltype"
   ]
  },
  {
   "cell_type": "code",
   "execution_count": 32,
   "metadata": {},
   "outputs": [],
   "source": [
    "mutable struct EventQueue{ℜ<:Real} \n",
    "    T::Int\n",
    "    X::Array{ℜ}\n",
    "    pq::PriorityQueue{Tuple{Int,Int,Int},ℜ,Base.Order.ForwardOrdering}\n",
    "    function EventQueue(X::Array{ℜ}) where {ℜ<:Real}\n",
    "        I::Int, J::Int, K::Int = size(X)\n",
    "        T::Int = Int(round(sum(X)))\n",
    "        pq = PriorityQueue([(i,j,k)=>rand(Dirichlet([1.0,X[i,j,k]]))[1] for k=1:K, j=1:J, i=1:I if X[i,j,k]>0])\n",
    "        return new{ℜ}(T,copy(X),pq)\n",
    "    end\n",
    "end\n",
    "                    \n",
    "Base.sum(L::EventQueue) = sum(L.X)\n",
    "Base.length(L::EventQueue) = L.T\n",
    "Base.eltype(L::EventQueue) = Tuple{Int,Int,Int}\n",
    "\n",
    "function Base.iterate(L::EventQueue{ℜ}, state::Ƶ=1) where {Ƶ<:Int,ℜ<:Real}\n",
    "    i::Ƶ, j::Ƶ, k::Ƶ = 0, 0, 0\n",
    "    t::ℜ, t_next::ℜ = 0.0, 0.0\n",
    "    if L.T < state\n",
    "        return nothing\n",
    "    end\n",
    "    t = peek(L.pq)[2]\n",
    "    i, j, k = dequeue!(L.pq)\n",
    "    L.X[i, j, k] -= 1.0\n",
    "    if L.X[i, j, k] > 0.0\n",
    "        t_next = t + (1.0 - t)*rand(Dirichlet([1.0, L.X[i,j, k]]))[1]\n",
    "        L.pq[(i, j, k)] = t_next\n",
    "    end\n",
    "    return (i, j, k), state+1\n",
    "end"
   ]
  },
  {
   "cell_type": "code",
   "execution_count": 33,
   "metadata": {},
   "outputs": [],
   "source": [
    "mutable struct Particle{ℜ <: Real}\n",
    "    S_R::Array{ℜ,1}\n",
    "    S_IR::Array{ℜ,2}\n",
    "    S_JR::Array{ℜ,2}\n",
    "    S_KR::Array{ℜ,2}\n",
    "    function Particle(I::Int,J::Int, K::Int, R::Int; γ::ℜ=0.1) where {ℜ<:Real}\n",
    "        a::ℜ = I*J*K*γ\n",
    "        return new{ℜ}(fill(a/R,R), fill(a/(R*I),I,R), fill(a/(R*J),J,R), fill(a/(R*K),K,R))\n",
    "    end\n",
    "    function Particle(S_R::Array{ℜ,1}, S_IR::Array{ℜ,2}, S_JR::Array{ℜ,2}, S_KR::Array{ℜ,2}) where {ℜ<:Real}\n",
    "        return new{ℜ}(S_R, S_IR, S_JR, S_KR)\n",
    "    end\n",
    "end"
   ]
  },
  {
   "cell_type": "code",
   "execution_count": 34,
   "metadata": {},
   "outputs": [
    {
     "data": {
      "text/plain": [
       "smc_opt (generic function with 2 methods)"
      ]
     },
     "execution_count": 34,
     "metadata": {},
     "output_type": "execute_result"
    }
   ],
   "source": [
    "function resample(W::Array,Π::Array{Particle{ℜ}},u=rand()) where {ℜ <: Real} # systematic resampling\n",
    "    P = length(W)\n",
    "    j = 0\n",
    "    cum_Wⱼ = cum_Wᵢ = -u\n",
    "    for i ∈ 1:P\n",
    "        rᵢ = ceil(cum_Wᵢ + P*W[i]) - ceil(cum_Wᵢ) # number of replicas for ith particle\n",
    "        for _ ∈ 2.0:rᵢ\n",
    "            j+=1\n",
    "            while ceil(cum_Wⱼ+ P*W[j]) - ceil(cum_Wⱼ) > 0 # find next j to be replaced\n",
    "                cum_Wⱼ += P*W[j]\n",
    "                j+=1\n",
    "            end\n",
    "            cum_Wⱼ += P*W[j]\n",
    "            \n",
    "            # replace j by i\n",
    "            Π[j].S_R .= Π[i].S_R\n",
    "            Π[j].S_IR .= Π[i].S_IR\n",
    "            Π[j].S_JR .= Π[i].S_JR\n",
    "            Π[j].S_KR .= Π[i].S_KR          \n",
    "        end\n",
    "        cum_Wᵢ += P*W[i]\n",
    "    end\n",
    "end\n",
    "\n",
    "function smc_opt(X::Array{ℜ,3}, R::Ƶ, N::Ƶ=1; a::ℜ=1.0, b::ℜ=a/nansum(X)) where {ℜ<:Real, Ƶ<:Int}\n",
    "    I::Ƶ, J::Ƶ, K::Ƶ = size(X)\n",
    "    T::Ƶ = Ƶ(sum(X))\n",
    "\n",
    "    log_Z::ℜ = a*log(b) - (a+T)*log(b + 1.0) - sum(lgamma,X .+ 1.0) \n",
    "    P = [Particle(I,J,K,R; γ=a/(I*J*K)) for n=1:N]\n",
    "    \n",
    "    log_w::Array{ℜ}, W::Array{ℜ}, cum_W::Array{ℜ} = fill(log_Z,N), fill(1.0/N,N), zeros(ℜ,N)\n",
    "    log_ν::ℜ, log_q::Array{ℜ}, q::Array{ℜ}= 0.0, zeros(ℜ,R), zeros(ℜ,R)\n",
    "\n",
    "    for (i, j, k) ∈ EventQueue(X)\n",
    "        for (n,p) ∈ enumerate(P)   \n",
    "            log_q .= log.(p.S_IR[i,:]) .+ log.(p.S_JR[j,:]) .+ log.(p.S_KR[k,:]) .- 2.0.*log.(p.S_R)\n",
    "            log_ν = logsumexp(log_q)\n",
    "            log_q .-= log_ν\n",
    "            \n",
    "            q .= exp.(log_q)\n",
    "            r = rand(Categorical(q))\n",
    "            \n",
    "            p.S_R[r] += 1.0 \n",
    "            p.S_IR[i,r] += 1.0 \n",
    "            p.S_JR[j,r] += 1.0 \n",
    "            p.S_KR[k,r] += 1.0 \n",
    "\n",
    "            log_w[n] += log_ν\n",
    "        end\n",
    "        \n",
    "        log_Z = logmeanexp(log_w)\n",
    "        W .= exp.(log_w .- logsumexp(log_w))\n",
    "        \n",
    "        if 2/N < sum(W .* W)\n",
    "            resample(W,P)\n",
    "            log_w .= log_Z\n",
    "        end\n",
    "    end\n",
    "    return log_Z\n",
    "end"
   ]
  },
  {
   "cell_type": "markdown",
   "metadata": {},
   "source": [
    "## Model Order Selection for CP/PARAFAC"
   ]
  },
  {
   "cell_type": "markdown",
   "metadata": {},
   "source": [
    "### Confusion Matrix"
   ]
  },
  {
   "cell_type": "code",
   "execution_count": 35,
   "metadata": {},
   "outputs": [],
   "source": [
    "import Random: shuffle\n",
    "import Dates: now"
   ]
  },
  {
   "cell_type": "code",
   "execution_count": 36,
   "metadata": {},
   "outputs": [
    {
     "data": {
      "text/plain": [
       "10.0"
      ]
     },
     "execution_count": 36,
     "metadata": {},
     "output_type": "execute_result"
    }
   ],
   "source": [
    "I, J, K = 20, 25, 30\n",
    "T = 1000\n",
    "a = 10.0"
   ]
  },
  {
   "cell_type": "code",
   "execution_count": 37,
   "metadata": {},
   "outputs": [
    {
     "data": {
      "text/plain": [
       "1:8"
      ]
     },
     "execution_count": 37,
     "metadata": {},
     "output_type": "execute_result"
    }
   ],
   "source": [
    "N, M = 1000, 20\n",
    "EPOCHS = 50\n",
    "Rs = 1:8"
   ]
  },
  {
   "cell_type": "code",
   "execution_count": 38,
   "metadata": {},
   "outputs": [],
   "source": [
    "R_true = shuffle(vcat([Rs for i ∈ 1:15]...))\n",
    "R_smc, R_vb = zeros(Int,length(R_true)), zeros(Int,length(R_true));"
   ]
  },
  {
   "cell_type": "code",
   "execution_count": 39,
   "metadata": {},
   "outputs": [],
   "source": [
    "for (t,Rₜ) ∈ enumerate(R_true)\n",
    "    X = Float64.(NCP.generate(T,Rₜ,I,J,K; a=a)[1]);\n",
    "    _, R_smc[t] = findmax(logmeanexp([smc_opt(X, R, N; a=a) for m ∈ 1:M, R ∈ Rs],1))\n",
    "    _, R_vb[t] = findmax(nanmax([vb_opt(X, R; a=a, EPOCHS=EPOCHS) for m ∈ 1:M, R ∈ Rs],1))\n",
    "end"
   ]
  },
  {
   "cell_type": "code",
   "execution_count": 40,
   "metadata": {},
   "outputs": [],
   "source": [
    "save_json(\"$PATH/parafac_confusion.json\"; R = Rs, a=As, I=I, J=J, K=K, T=T,\n",
    "    R_true=R_true, R_smc=R_smc, R_vb=R_vb, time=now());"
   ]
  },
  {
   "cell_type": "markdown",
   "metadata": {},
   "source": [
    "### An Example"
   ]
  },
  {
   "cell_type": "code",
   "execution_count": 41,
   "metadata": {
    "scrolled": true
   },
   "outputs": [
    {
     "data": {
      "text/plain": [
       "(10.0, 1000)"
      ]
     },
     "execution_count": 41,
     "metadata": {},
     "output_type": "execute_result"
    }
   ],
   "source": [
    "I, J, K, R_true = 20, 25, 30, 5\n",
    "a, T = 10.0, 1000"
   ]
  },
  {
   "cell_type": "code",
   "execution_count": 42,
   "metadata": {},
   "outputs": [],
   "source": [
    "X = Float64.(NCP.generate(T,R_true,I,J,K;a=a)[1]);"
   ]
  },
  {
   "cell_type": "code",
   "execution_count": 43,
   "metadata": {},
   "outputs": [],
   "source": [
    "N, M = 1500, 40\n",
    "EPOCHS = 50\n",
    "Rs = 1:10;"
   ]
  },
  {
   "cell_type": "code",
   "execution_count": 44,
   "metadata": {},
   "outputs": [
    {
     "name": "stdout",
     "output_type": "stream",
     "text": [
      "513.203926 seconds (3.04 G allocations: 320.986 GiB, 7.04% gc time)\n",
      "213.838334 seconds (2.15 G allocations: 252.273 GiB, 17.65% gc time)\n"
     ]
    }
   ],
   "source": [
    "@time smc_results = logmeanexp([smc_opt(X, R, N; a=a) for m ∈ 1:M, R ∈ Rs],1)\n",
    "@time vb_results = nanmax([vb_opt(X, R; a=a, EPOCHS=EPOCHS) for m ∈ 1:M, R ∈ Rs],1);"
   ]
  },
  {
   "cell_type": "code",
   "execution_count": 45,
   "metadata": {},
   "outputs": [],
   "source": [
    "save_json(\"$PATH/parafac_model_selection.json\"; R = Rs, a=a, I=I, J=J, K=K, R_true=R_true, T=T,\n",
    "    log_PX_smc=smc_results, log_PX_vb=vb_results,  time=now());"
   ]
  },
  {
   "cell_type": "markdown",
   "metadata": {},
   "source": [
    "### Runtimes"
   ]
  },
  {
   "cell_type": "code",
   "execution_count": 46,
   "metadata": {},
   "outputs": [
    {
     "data": {
      "text/plain": [
       "(50, 500, 10)"
      ]
     },
     "execution_count": 46,
     "metadata": {},
     "output_type": "execute_result"
    }
   ],
   "source": [
    "IJK = [(Iₙ,Iₙ,Iₙ) for Iₙ ∈ 4:4:64]\n",
    "a, T, R = 50.0, 1000, 10\n",
    "EPOCHS, P, M = 50, 500, 10"
   ]
  },
  {
   "cell_type": "code",
   "execution_count": 47,
   "metadata": {},
   "outputs": [],
   "source": [
    "smc_times = zeros(Real,length(IJK),M)\n",
    "vb_times = zeros(Real,length(IJK),M)\n",
    "for m ∈ 1:M, (i,(I,J,K)) in enumerate(IJK)\n",
    "    X = Float64.(NCP.generate(T,R,I,J,K; a=a)[1])\n",
    "    \n",
    "    res = @timed smc_opt(X, R, P; a=a);\n",
    "    smc_times[i,m] = res[2]\n",
    "    res = @timed vb_opt(X, R; a=a, EPOCHS=EPOCHS);\n",
    "    vb_times[i,m] = res[2]\n",
    "end"
   ]
  },
  {
   "cell_type": "code",
   "execution_count": 48,
   "metadata": {},
   "outputs": [],
   "source": [
    "save_json(\"$PATH/parafac_runtime.json\"; R = R, a=a, T=T, IJK=IJK, EPOCHS=EPOCHS, P=P, M=M,\n",
    "    smc=smc_times, vb=vb_times,  time=now());"
   ]
  }
 ],
 "metadata": {
  "author": "mes$. \\figref{fig:runtimes",
  "hide_input": false,
  "kernelspec": {
   "display_name": "Julia 1.0.1",
   "language": "julia",
   "name": "julia-1.0"
  },
  "language_info": {
   "file_extension": ".jl",
   "mimetype": "application/julia",
   "name": "julia",
   "version": "1.0.1"
  },
  "latex_envs": {
   "LaTeX_envs_menu_present": true,
   "autoclose": false,
   "autocomplete": true,
   "bibliofile": "biblio.bib",
   "cite_by": "apalike",
   "current_citInitial": 1,
   "eqLabelWithNumbers": true,
   "eqNumInitial": 1,
   "hotkeys": {
    "equation": "Ctrl-E",
    "itemize": "Ctrl-I"
   },
   "labels_anchors": false,
   "latex_user_defs": false,
   "report_style_numbering": false,
   "user_envs_cfg": false
  }
 },
 "nbformat": 4,
 "nbformat_minor": 2
}
